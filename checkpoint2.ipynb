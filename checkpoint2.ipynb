{
  "nbformat": 4,
  "nbformat_minor": 0,
  "metadata": {
    "colab": {
      "name": "checkpoint2.ipynb",
      "provenance": [],
      "collapsed_sections": []
    },
    "kernelspec": {
      "name": "python3",
      "display_name": "Python 3"
    },
    "language_info": {
      "name": "python"
    }
  },
  "cells": [
    {
      "cell_type": "code",
      "metadata": {
        "colab": {
          "base_uri": "https://localhost:8080/"
        },
        "id": "3Tl7bIl5lfc2",
        "outputId": "3521271e-f9fd-460d-f6e5-297edb6b2cc0"
      },
      "source": [
        "#Question 1:\n",
        "# Method 1\n",
        "liste=[]\n",
        "for x in range(2000,3201):\n",
        "  if x%7==0 and x%5!=0 :\n",
        "    liste.append(x)\n",
        "print(liste)"
      ],
      "execution_count": null,
      "outputs": [
        {
          "output_type": "stream",
          "text": [
            "[2002, 2009, 2016, 2023, 2037, 2044, 2051, 2058, 2072, 2079, 2086, 2093, 2107, 2114, 2121, 2128, 2142, 2149, 2156, 2163, 2177, 2184, 2191, 2198, 2212, 2219, 2226, 2233, 2247, 2254, 2261, 2268, 2282, 2289, 2296, 2303, 2317, 2324, 2331, 2338, 2352, 2359, 2366, 2373, 2387, 2394, 2401, 2408, 2422, 2429, 2436, 2443, 2457, 2464, 2471, 2478, 2492, 2499, 2506, 2513, 2527, 2534, 2541, 2548, 2562, 2569, 2576, 2583, 2597, 2604, 2611, 2618, 2632, 2639, 2646, 2653, 2667, 2674, 2681, 2688, 2702, 2709, 2716, 2723, 2737, 2744, 2751, 2758, 2772, 2779, 2786, 2793, 2807, 2814, 2821, 2828, 2842, 2849, 2856, 2863, 2877, 2884, 2891, 2898, 2912, 2919, 2926, 2933, 2947, 2954, 2961, 2968, 2982, 2989, 2996, 3003, 3017, 3024, 3031, 3038, 3052, 3059, 3066, 3073, 3087, 3094, 3101, 3108, 3122, 3129, 3136, 3143, 3157, 3164, 3171, 3178, 3192, 3199]\n"
          ],
          "name": "stdout"
        }
      ]
    },
    {
      "cell_type": "code",
      "metadata": {
        "colab": {
          "base_uri": "https://localhost:8080/"
        },
        "id": "kHoN0o9GGU-5",
        "outputId": "629928c3-5c7e-44c1-e7c8-de96e040c549"
      },
      "source": [
        "#Method 2\n",
        "liste_2=list(range(2000,3201))\n",
        "filtered_list = list(filter(lambda x : x%7==0 and x%5!=0, liste_2))\n",
        "print(filtered_list)"
      ],
      "execution_count": null,
      "outputs": [
        {
          "output_type": "stream",
          "text": [
            "[2002, 2009, 2016, 2023, 2037, 2044, 2051, 2058, 2072, 2079, 2086, 2093, 2107, 2114, 2121, 2128, 2142, 2149, 2156, 2163, 2177, 2184, 2191, 2198, 2212, 2219, 2226, 2233, 2247, 2254, 2261, 2268, 2282, 2289, 2296, 2303, 2317, 2324, 2331, 2338, 2352, 2359, 2366, 2373, 2387, 2394, 2401, 2408, 2422, 2429, 2436, 2443, 2457, 2464, 2471, 2478, 2492, 2499, 2506, 2513, 2527, 2534, 2541, 2548, 2562, 2569, 2576, 2583, 2597, 2604, 2611, 2618, 2632, 2639, 2646, 2653, 2667, 2674, 2681, 2688, 2702, 2709, 2716, 2723, 2737, 2744, 2751, 2758, 2772, 2779, 2786, 2793, 2807, 2814, 2821, 2828, 2842, 2849, 2856, 2863, 2877, 2884, 2891, 2898, 2912, 2919, 2926, 2933, 2947, 2954, 2961, 2968, 2982, 2989, 2996, 3003, 3017, 3024, 3031, 3038, 3052, 3059, 3066, 3073, 3087, 3094, 3101, 3108, 3122, 3129, 3136, 3143, 3157, 3164, 3171, 3178, 3192, 3199]\n"
          ],
          "name": "stdout"
        }
      ]
    },
    {
      "cell_type": "code",
      "metadata": {
        "id": "2E_2woK8nQD8"
      },
      "source": [
        "#Question 2:\n",
        "def factorial(n):\n",
        "  f=1\n",
        "  while n>=0 :\n",
        "    if n==0 :\n",
        "      return f\n",
        "    else:\n",
        "      for i in range(1,n+1):\n",
        "        f=f*i\n",
        "      return f\n",
        "  else:\n",
        "    msg = 'the number should be positif'\n",
        "    return msg     "
      ],
      "execution_count": null,
      "outputs": []
    },
    {
      "cell_type": "code",
      "metadata": {
        "id": "OvnmeGC0qgux",
        "colab": {
          "base_uri": "https://localhost:8080/"
        },
        "outputId": "03792e65-79f8-4e95-c79c-3b5c1b59c683"
      },
      "source": [
        "print(factorial(4))\n",
        "print(factorial(0))\n",
        "print(factorial(-5))"
      ],
      "execution_count": null,
      "outputs": [
        {
          "output_type": "stream",
          "text": [
            "24\n",
            "1\n",
            "the number should be positif\n"
          ],
          "name": "stdout"
        }
      ]
    },
    {
      "cell_type": "code",
      "metadata": {
        "id": "l6AygTjILoBy"
      },
      "source": [
        "#Question 3\n",
        "\n",
        "def dictionary(n):\n",
        "  d={}\n",
        "  while n>0:\n",
        "    for i in range(1,n+1):\n",
        "      d[i]=i**2\n",
        "    return d\n",
        "  else:\n",
        "    msg = 'the number should be positif'\n",
        "    return msg"
      ],
      "execution_count": null,
      "outputs": []
    },
    {
      "cell_type": "code",
      "metadata": {
        "colab": {
          "base_uri": "https://localhost:8080/"
        },
        "id": "XUyVmc8cZCx8",
        "outputId": "2942086d-2127-4365-a0dc-d76614779d45"
      },
      "source": [
        "print(dictionary(8))\n",
        "print(dictionary(-3))"
      ],
      "execution_count": null,
      "outputs": [
        {
          "output_type": "stream",
          "text": [
            "{1: 1, 2: 4, 3: 9, 4: 16, 5: 25, 6: 36, 7: 49, 8: 64}\n",
            "the number should be positif\n"
          ],
          "name": "stdout"
        }
      ]
    },
    {
      "cell_type": "code",
      "metadata": {
        "id": "KsFAnPQUZUzX"
      },
      "source": [
        "#Quesion 4\n",
        "\n",
        "def missing_char(ch,n):\n",
        "  while len(ch)!=0:\n",
        "    if n in range(len(ch)):\n",
        "      ch = ch[:n]+ch[n+1:]\n",
        "      return ch\n",
        "    else:\n",
        "      msg='the number is out of range!!!'\n",
        "      return msg\n",
        "  else:\n",
        "    msg='the string is empty!!!'\n",
        "    return msg"
      ],
      "execution_count": null,
      "outputs": []
    },
    {
      "cell_type": "code",
      "metadata": {
        "colab": {
          "base_uri": "https://localhost:8080/"
        },
        "id": "SoC1RjJia3it",
        "outputId": "b2a5a8a1-8e88-4ac5-ada8-e19c6aed032f"
      },
      "source": [
        "print(missing_char('kitten',1))\n",
        "print(missing_char('kitten',0))\n",
        "print(missing_char('kitten',4))\n",
        "print(missing_char('kitten',6))\n",
        "print(missing_char('',1))"
      ],
      "execution_count": null,
      "outputs": [
        {
          "output_type": "stream",
          "text": [
            "ktten\n",
            "itten\n",
            "kittn\n",
            "the number is out of range!!!\n",
            "the string is empty!!!\n"
          ],
          "name": "stdout"
        }
      ]
    },
    {
      "cell_type": "code",
      "metadata": {
        "colab": {
          "base_uri": "https://localhost:8080/"
        },
        "id": "vWmHGGOEKQLQ",
        "outputId": "10532701-f2ef-4453-8d27-959ff092ac85"
      },
      "source": [
        "#Question 5\n",
        "\n",
        "import numpy as np\n",
        "array = np.array([[0,1],[2,3],[4,5]])\n",
        "print('Original array elements: ',array)\n",
        "liste = array.tolist()\n",
        "print('Array to list: ', liste)"
      ],
      "execution_count": null,
      "outputs": [
        {
          "output_type": "stream",
          "text": [
            "Original array elements:  [[0 1]\n",
            " [2 3]\n",
            " [4 5]]\n",
            "Array to list:  [[0, 1], [2, 3], [4, 5]]\n"
          ],
          "name": "stdout"
        }
      ]
    },
    {
      "cell_type": "code",
      "metadata": {
        "colab": {
          "base_uri": "https://localhost:8080/"
        },
        "id": "uFRMAzryMcxq",
        "outputId": "3b969612-1bf4-4d0e-82d8-c547fc5de9c7"
      },
      "source": [
        "#Question 6\n",
        "\n",
        "array1 = np.array([0,1,2])\n",
        "print('Original array1: ', array1)\n",
        "array2 = np.array([2,1,0])\n",
        "print('Original array2: ', array2)\n",
        "cov_matrix = np.cov(array1,array2)\n",
        "print('Covariance matrix of the said arrays: ', cov_matrix)\n"
      ],
      "execution_count": null,
      "outputs": [
        {
          "output_type": "stream",
          "text": [
            "Original array1:  [0 1 2]\n",
            "Original array2:  [2 1 0]\n",
            "Covariance matrix of the said arrays:  [[ 1. -1.]\n",
            " [-1.  1.]]\n"
          ],
          "name": "stdout"
        }
      ]
    },
    {
      "cell_type": "code",
      "metadata": {
        "colab": {
          "base_uri": "https://localhost:8080/"
        },
        "id": "eqOW65aUoKtG",
        "outputId": "5adea700-05de-4bc5-8671-da213bec2ee8"
      },
      "source": [
        "#Question 7\n",
        "\n",
        "from math import sqrt\n",
        "c=50\n",
        "h=30\n",
        "result=[]\n",
        "liste=input().split(',')\n",
        "for d in liste:\n",
        "  q=round(sqrt((2*c*int(d))/h))\n",
        "  result.append(str(q))\n",
        "result=','.join(result)\n",
        "print(result)"
      ],
      "execution_count": 2,
      "outputs": [
        {
          "output_type": "stream",
          "text": [
            "100,150,180\n",
            "18,22,24\n"
          ],
          "name": "stdout"
        }
      ]
    }
  ]
}